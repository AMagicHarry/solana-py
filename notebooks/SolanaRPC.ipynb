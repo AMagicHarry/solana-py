{
 "cells": [
  {
   "cell_type": "code",
   "execution_count": 1,
   "metadata": {},
   "outputs": [
    {
     "data": {
      "text/plain": [
       "True"
      ]
     },
     "execution_count": 1,
     "metadata": {},
     "output_type": "execute_result"
    }
   ],
   "source": [
    "from solanarpc.api import Client\n",
    "\n",
    "solana_client = Client(\"https://devnet.solana.com\")\n",
    "solana_client.is_connected()"
   ]
  },
  {
   "cell_type": "code",
   "execution_count": 2,
   "metadata": {},
   "outputs": [
    {
     "data": {
      "text/plain": [
       "{'jsonrpc': '2.0',\n",
       " 'result': '4tdNYqFQgXqEyDcmyt7y78dc4PSfDVDY6BFZvx7DquFXoJJpTE1iNyp9UQaUhXWYEohtNXLxnSv9apC9KW59fahX',\n",
       " 'id': 0}"
      ]
     },
     "execution_count": 2,
     "metadata": {},
     "output_type": "execute_result"
    }
   ],
   "source": [
    "from solanaweb3.account import Account\n",
    "\n",
    "acc1 = Account(bytes([8] * 32))\n",
    "tx = solana_client.request_airdrop(acc1.public_key(), 1000000)\n",
    "tx"
   ]
  },
  {
   "cell_type": "code",
   "execution_count": 7,
   "metadata": {},
   "outputs": [
    {
     "data": {
      "text/plain": [
       "{'jsonrpc': '2.0',\n",
       " 'result': {'meta': {'err': None,\n",
       "   'fee': 5000,\n",
       "   'postBalances': [498484110832744870, 1000001000987940, 1],\n",
       "   'preBalances': [498484110833749870, 1000000999987940, 1],\n",
       "   'status': {'Ok': None}},\n",
       "  'slot': 1535017,\n",
       "  'transaction': {'message': {'accountKeys': ['9B5XszUGdMaxCZ7uSQhPzdks5ZQSmWxrmzCSvtJ6Ns6g',\n",
       "     '2KW2XRd9kwqet15Aha2oK3tYvd3nWbTFH1MBiRAv1BE1',\n",
       "     '11111111111111111111111111111111'],\n",
       "    'header': {'numReadonlySignedAccounts': 0,\n",
       "     'numReadonlyUnsignedAccounts': 1,\n",
       "     'numRequiredSignatures': 1},\n",
       "    'instructions': [{'accounts': [0, 1],\n",
       "      'data': '3Bxs4Bc3VYuGVB19',\n",
       "      'programIdIndex': 2}],\n",
       "    'recentBlockhash': 'H45L5y2JdbAPdKCWCLwr9bYoX2b9an4d1uJJYSCfzbZH'},\n",
       "   'signatures': ['4tdNYqFQgXqEyDcmyt7y78dc4PSfDVDY6BFZvx7DquFXoJJpTE1iNyp9UQaUhXWYEohtNXLxnSv9apC9KW59fahX']}},\n",
       " 'id': 5}"
      ]
     },
     "execution_count": 7,
     "metadata": {},
     "output_type": "execute_result"
    }
   ],
   "source": [
    "solana_client.get_confirmed_transaction(tx[\"result\"])"
   ]
  },
  {
   "cell_type": "code",
   "execution_count": null,
   "metadata": {},
   "outputs": [],
   "source": [
    "solana_client.get_balance(acc1.public_key())"
   ]
  },
  {
   "cell_type": "code",
   "execution_count": null,
   "metadata": {},
   "outputs": [],
   "source": [
    "recent_blockhash = solana_client.get_recent_blockhash()\n",
    "recent_blockhash"
   ]
  },
  {
   "cell_type": "code",
   "execution_count": null,
   "metadata": {},
   "outputs": [],
   "source": [
    "from base58 import b58encode\n",
    "from solanaweb3.blockhash import Blockhash\n",
    "from solanaweb3.system_program import SystemProgram, TransferParams\n",
    "from solanaweb3.transaction import Transaction\n",
    "from solanaweb3.publickey import PublicKey\n",
    "\n",
    "acc2_pubkey = PublicKey(\"83astBRguLMdt2h5U1Tpdq5tjFoJ6noeGwaY3mDLVcri\")\n",
    "tx = SystemProgram.transfer(\n",
    "    TransferParams(from_pubkey=acc1.public_key(), to_pubkey=acc2_pubkey, lamports=1000000))\n",
    "tx.recent_blockhash = Blockhash(recent_blockhash[\"result\"][\"value\"][\"blockhash\"])\n",
    "tx.sign(acc1)\n",
    "tx_sig = solana_client.send_raw_transaction(tx)\n",
    "tx_sig"
   ]
  },
  {
   "cell_type": "code",
   "execution_count": null,
   "metadata": {},
   "outputs": [],
   "source": [
    "solana_client.get_confirmed_transaction(tx_sig[\"result\"])"
   ]
  },
  {
   "cell_type": "code",
   "execution_count": null,
   "metadata": {},
   "outputs": [],
   "source": [
    "solana_client.get_balance(acc2_pubkey)"
   ]
  },
  {
   "cell_type": "code",
   "execution_count": null,
   "metadata": {},
   "outputs": [],
   "source": [
    "tx = SystemProgram.transfer(\n",
    "    TransferParams(from_pubkey=acc1.public_key(), to_pubkey=acc2_pubkey, lamports=1000000))\n",
    "tx_sig = solana_client.send_transaction(tx, acc1)\n",
    "tx_sig"
   ]
  },
  {
   "cell_type": "code",
   "execution_count": null,
   "metadata": {},
   "outputs": [],
   "source": [
    "solana_client.get_confirmed_transaction(tx_sig[\"result\"])"
   ]
  },
  {
   "cell_type": "code",
   "execution_count": null,
   "metadata": {},
   "outputs": [],
   "source": []
  }
 ],
 "metadata": {
  "kernelspec": {
   "display_name": "Python 3",
   "language": "python",
   "name": "python3"
  },
  "language_info": {
   "codemirror_mode": {
    "name": "ipython",
    "version": 3
   },
   "file_extension": ".py",
   "mimetype": "text/x-python",
   "name": "python",
   "nbconvert_exporter": "python",
   "pygments_lexer": "ipython3",
   "version": "3.7.3"
  }
 },
 "nbformat": 4,
 "nbformat_minor": 4
}
