{
 "cells": [
  {
   "cell_type": "code",
   "execution_count": 3,
   "metadata": {},
   "outputs": [
    {
     "data": {
      "text/plain": [
       "True"
      ]
     },
     "execution_count": 3,
     "metadata": {},
     "output_type": "execute_result"
    }
   ],
   "source": [
    "from solana.rpc.api import Client\n",
    "\n",
    "solana_client = Client(\"https://devnet.solana.com\")\n",
    "solana_client.is_connected()"
   ]
  },
  {
   "cell_type": "code",
   "execution_count": 20,
   "metadata": {},
   "outputs": [
    {
     "data": {
      "text/plain": [
       "{'jsonrpc': '2.0', 'result': {'context': {'slot': 5216}, 'value': 0}, 'id': 16}"
      ]
     },
     "execution_count": 20,
     "metadata": {},
     "output_type": "execute_result"
    }
   ],
   "source": [
    "from solana.publickey import PublicKey\n",
    "solana_client.get_balance(PublicKey(1))"
   ]
  },
  {
   "cell_type": "code",
   "execution_count": null,
   "metadata": {},
   "outputs": [],
   "source": [
    "solana_client.get_block_commitment(5)"
   ]
  },
  {
   "cell_type": "code",
   "execution_count": null,
   "metadata": {},
   "outputs": [],
   "source": [
    "solana_client.get_block_time(5)"
   ]
  },
  {
   "cell_type": "code",
   "execution_count": null,
   "metadata": {},
   "outputs": [],
   "source": [
    "solana_client.get_cluster_nodes()"
   ]
  },
  {
   "cell_type": "code",
   "execution_count": null,
   "metadata": {},
   "outputs": [],
   "source": [
    "solana_client.get_confirmed_block(1)"
   ]
  },
  {
   "cell_type": "code",
   "execution_count": null,
   "metadata": {},
   "outputs": [],
   "source": [
    "solana_client.get_confirmed_block(1, encoding=\"base64\")"
   ]
  },
  {
   "cell_type": "code",
   "execution_count": null,
   "metadata": {},
   "outputs": [],
   "source": [
    "solana_client.get_confirmed_blocks(5, 10)"
   ]
  },
  {
   "cell_type": "code",
   "execution_count": null,
   "metadata": {},
   "outputs": [],
   "source": [
    "solana_client.get_confirmed_signature_for_address2(\"Vote111111111111111111111111111111111111111\", limit=1)"
   ]
  },
  {
   "cell_type": "code",
   "execution_count": null,
   "metadata": {},
   "outputs": [],
   "source": [
    "solana_client.get_epoch_info()"
   ]
  },
  {
   "cell_type": "code",
   "execution_count": null,
   "metadata": {},
   "outputs": [],
   "source": [
    "solana_client.get_epoch_schedule()"
   ]
  },
  {
   "cell_type": "code",
   "execution_count": null,
   "metadata": {},
   "outputs": [],
   "source": [
    "solana_client.get_fee_calculator_for_blockhash(\"BaQSR194dC4dZaRxATtxYyEwDkk7VgqUY8NVNkub8HFZ\")"
   ]
  },
  {
   "cell_type": "code",
   "execution_count": null,
   "metadata": {},
   "outputs": [],
   "source": [
    "solana_client.get_recent_blockhash()"
   ]
  },
  {
   "cell_type": "code",
   "execution_count": null,
   "metadata": {},
   "outputs": [],
   "source": [
    "solana_client.get_fee_rate_governor()"
   ]
  },
  {
   "cell_type": "code",
   "execution_count": null,
   "metadata": {},
   "outputs": [],
   "source": [
    "solana_client.get_slot()"
   ]
  },
  {
   "cell_type": "code",
   "execution_count": null,
   "metadata": {},
   "outputs": [],
   "source": [
    "solana_client.get_fees()"
   ]
  },
  {
   "cell_type": "code",
   "execution_count": null,
   "metadata": {},
   "outputs": [],
   "source": [
    "solana_client.get_first_available_block()"
   ]
  },
  {
   "cell_type": "code",
   "execution_count": null,
   "metadata": {},
   "outputs": [],
   "source": [
    "solana_client.get_genesis_hash()"
   ]
  },
  {
   "cell_type": "code",
   "execution_count": null,
   "metadata": {},
   "outputs": [],
   "source": [
    "solana_client.get_identity()"
   ]
  },
  {
   "cell_type": "code",
   "execution_count": null,
   "metadata": {},
   "outputs": [],
   "source": [
    "solana_client.get_inflation_governor()"
   ]
  },
  {
   "cell_type": "code",
   "execution_count": null,
   "metadata": {},
   "outputs": [],
   "source": [
    "solana_client.get_inflation_rate()"
   ]
  },
  {
   "cell_type": "code",
   "execution_count": null,
   "metadata": {},
   "outputs": [],
   "source": [
    "solana_client.get_largest_accounts()"
   ]
  },
  {
   "cell_type": "code",
   "execution_count": null,
   "metadata": {},
   "outputs": [],
   "source": [
    "solana_client.get_leader_schedule()"
   ]
  },
  {
   "cell_type": "code",
   "execution_count": null,
   "metadata": {},
   "outputs": [],
   "source": [
    "solana_client.get_minimum_balance_for_rent_exemption(50)"
   ]
  },
  {
   "cell_type": "code",
   "execution_count": 5,
   "metadata": {},
   "outputs": [
    {
     "data": {
      "text/plain": [
       "{'jsonrpc': '2.0', 'result': [], 'id': 2}"
      ]
     },
     "execution_count": 5,
     "metadata": {},
     "output_type": "execute_result"
    }
   ],
   "source": [
    "filter_opts = {\"memcmp\": {\"offset\": 4, \"bytes\": \"3Mc6vR\"}}\n",
    "solana_client.get_program_accounts(\"4Nd1mBQtrMJVYVfKf2PJy9NZUZdTAsp7D4xWLs4gDB4T\", data_size=17, filter_opts=filter_opts)"
   ]
  },
  {
   "cell_type": "code",
   "execution_count": null,
   "metadata": {},
   "outputs": [],
   "source": [
    "solana_client.get_recent_blockhash()"
   ]
  },
  {
   "cell_type": "code",
   "execution_count": 6,
   "metadata": {},
   "outputs": [
    {
     "name": "stdout",
     "output_type": "stream",
     "text": [
      "['5VERv8NMvzbJMEkV8xnrLkEaWRtSz9CosKDYjCJjBRnbJLgp8uirBgmQpjKhoR4tjF3ZpRzrFmBV6UjKdiSZkQUW', '5j7s6NiJS3JAkvgkoc18WVAsiSaci2pxB2A6ueCJP4tprA2TFg9wSyTLeYouxPBJEMzJinENTkpA52YStRW5Dia7']\n"
     ]
    },
    {
     "data": {
      "text/plain": [
       "{'jsonrpc': '2.0',\n",
       " 'result': {'context': {'slot': 1703040}, 'value': [None, None]},\n",
       " 'id': 3}"
      ]
     },
     "execution_count": 6,
     "metadata": {},
     "output_type": "execute_result"
    }
   ],
   "source": [
    "signatures = [\"5VERv8NMvzbJMEkV8xnrLkEaWRtSz9CosKDYjCJjBRnbJLgp8uirBgmQpjKhoR4tjF3ZpRzrFmBV6UjKdiSZkQUW\", \"5j7s6NiJS3JAkvgkoc18WVAsiSaci2pxB2A6ueCJP4tprA2TFg9wSyTLeYouxPBJEMzJinENTkpA52YStRW5Dia7\"]\n",
    "solana_client.get_signature_statuses(signatures)"
   ]
  },
  {
   "cell_type": "code",
   "execution_count": 4,
   "metadata": {},
   "outputs": [
    {
     "data": {
      "text/plain": [
       "{'jsonrpc': '2.0',\n",
       " 'result': 'EWj2cuEuVhi7RX81cnAY3TzpyFwnHzzVwvuTyfmxmhs3',\n",
       " 'id': 2}"
      ]
     },
     "execution_count": 4,
     "metadata": {},
     "output_type": "execute_result"
    }
   ],
   "source": [
    "solana_client.get_slot_leader()"
   ]
  },
  {
   "cell_type": "code",
   "execution_count": 8,
   "metadata": {},
   "outputs": [
    {
     "data": {
      "text/plain": [
       "{'jsonrpc': '2.0',\n",
       " 'error': {'code': -32602, 'message': 'Invalid param: account not found'},\n",
       " 'id': 5}"
      ]
     },
     "execution_count": 8,
     "metadata": {},
     "output_type": "execute_result"
    }
   ],
   "source": [
    "solana_client.get_stake_activation(\"CYRJWqiSjLitBAcRxPvWpgX3s5TvmN2SuRY3eEYypFvT\", epoch=1)"
   ]
  },
  {
   "cell_type": "code",
   "execution_count": 9,
   "metadata": {},
   "outputs": [
    {
     "data": {
      "text/plain": [
       "{'jsonrpc': '2.0',\n",
       " 'result': {'context': {'slot': 1703139},\n",
       "  'value': {'circulating': 687197415618013047,\n",
       "   'nonCirculating': 315864808537127120,\n",
       "   'nonCirculatingAccounts': ['GK2zqSsXLA2rwVZk347RYhh6jJpRsCA69FjLW93ZGi3B',\n",
       "    '5cBVGBKY6kBaiTVmsQpxThJ2oqitBYuCAX9Zm2zMuV4y',\n",
       "    '9MyTj71VNMCMvqQR5gZcFV6f7qa6bvHcHZ8ChY2xqijY',\n",
       "    '9Qi5dxZoyJVNFym9Y1ytPYQLma1wXoEGBmkgjFbbGW1g',\n",
       "    'B1jiU9JgPf6vBExaHH2dsHyki8vgYH6SoJPdcT1ZeHEN',\n",
       "    'C8nfaV34p1XBeeq1GRuYdhskKLdRSURpXyxJ75fqJS39',\n",
       "    '14FUT96s9swbmH7ZjpDvfEDywnAYy9zaNhv4xvezySGu',\n",
       "    'DursgyE5yMwsnfaD2MbLoPGbDneg7Usj3gYvBnkukoL5',\n",
       "    '47L8TFLzBLhcAHuVNPCD3AzfEg29cCQAZGatsBdmoBKk',\n",
       "    'EEx65VC1UpvKcCnnEkPytbV6ZZqe9s9pquAwoxG5H61t',\n",
       "    '3FjzeK3UgcawjkiwYigduH5qzt7R7Sp96boZm2TMeCaY',\n",
       "    '6itYCTZkhpCLgx3jVD5acZUNNwQJfNkGp7Rg1HCdfqtv',\n",
       "    'gWgqQ4udVxE3uNxRHEwvftTHwpEmPHAd8JR9UzaHbR2',\n",
       "    '7G5aj9iJKhE3rhVqPySLmJ6jYZeHbAuNGoTmGn8QfWV1',\n",
       "    '7aeHgYysRJTErHvCchgmRwcHXvrbMeTpaL5LNZnQV4K4',\n",
       "    '9sSnFvHMJASvctzx1V5RcRM8Yug2L51f45ZARJSeqF5c',\n",
       "    '5pvnKBaUK9AMWjSVJwvsManF4m1UAMLYBFRo6bbuyzVe',\n",
       "    'B3rY3Un3QbHzrYMWgzbmi6bkjqdvrVXUMVkcFNsE9Eks',\n",
       "    'AG3m2bAibcY8raMt4oXEGqRHwX4FWKPPJVjZxn1LySDX',\n",
       "    '9CsTqwSbdMXCwhEK7ZZrqwsZkh7pdfmTkSS5SWzdeHJR',\n",
       "    'EV9TxTR9Q13PQP7FhCgAQMwkPZV6hD7EddZAPFfqoLCJ',\n",
       "    'Crr5K2E55L3G3H7jtGfta8tkmFTuBjPQBQqReU1Z2S9S',\n",
       "    'FmknejxFDCLovDd4RsfNePKRqRWW5kwtiKvEeiLTjEQP',\n",
       "    'EWErf4Gw9ewCUY5GJHa1Yfox4cnsDtmaAM2M45xDApvD',\n",
       "    'Hv5Ud4zaboDRZusWGuQBHVEVXMZwPEEKBvyWuXE5FiGc',\n",
       "    'GTUtgWF6GuVNNrdGKXNrGGJsecQtKqZKGyCAWEAxS5tY',\n",
       "    'HyVfQVSSdNtWNwDc5RgFEFkpuzsigYr83cLvzzHMM7uw',\n",
       "    'J6iB7MYhyMxCPN7rerAYeHcKxhWWYf8tgTUQ2aMkk2jR',\n",
       "    'A6t11ZS9ABVmXYRFbtjh6ViN9YDMmRbiEhwaKx31yaZC',\n",
       "    'BjfmjnmfAKqrnCZguVw4Qk621SQiy7Yufop7R5eA6gie',\n",
       "    '5tvmnYjtPwqakkUHLbmPBtuYEhJXxZFKfhdM2c4yvpR3',\n",
       "    'JCo7ptMT38iZdjXXdxD8Ye79dGBBkMi2nttnv965k3pE',\n",
       "    '5y3Yptfz6r3GRnCDUgtE4sK15U4qcQ5nVs8vSWxHe9Yf',\n",
       "    '6kZH2Jq7pEms7TSx4W1mW67ryRSXX1k2FsnVPSTP8XDc',\n",
       "    'ETfDYz7Cg5p9SDFmdpRerjBN5puKK7xydEBZZGM2V4Ay',\n",
       "    'HCV5dGFJXRrJ3jhDYA4DCeb9TEDTwGGYXtT3wHksu2Zr',\n",
       "    'WHFQ6gFhfr6gHpmL2j1pStuVVf3yNkhj3WM1LnquDJM',\n",
       "    'FZuqAH9happTPvdFdneHzU9sPGWev4ntE1XkupNoZTM6',\n",
       "    'EhGzBHxqXq52LnSrRmWCC873LWruuwToRCwR555U9HXj',\n",
       "    '4cbH1qTJnm1U5Vgq7aKD34LUPrtW233igDSj9V5DaU27',\n",
       "    '2aE5aexvkQTeM3Jv6ecs2hiCNZ6QDGGeUWqHV69b4Se1',\n",
       "    'Af8gSPwgnU391GGsJez9T4EeZ93LnCHJXg2FjDSqVWEn',\n",
       "    'zfvKfHXhpvhFDZneBEmtyFhB7DEKvrqztc7HVRJ4DHA',\n",
       "    'BG1iFYRnKiMxPn4PBVvY9o29xaiyzdB3i28iuHsooDmv',\n",
       "    'FPEHw1ushhAT53DLCkcVGMNmai61a2Lck2QApsReJtYE',\n",
       "    'FxFvWbHqLTuBK7wDqpXMz62DDz2ZyeCSbh8Gn8s1w1Je',\n",
       "    '9dXyLb1Z12bmco17aMauzSVGF2xyzyYNWBrA7uSRUrC9',\n",
       "    'CK49Y7NrmKS9hK7cmQ3dHX6m16APNdZVLYhqAvz935sP',\n",
       "    '7AfTrB5ETnqB8WfAAyFh28yLAHXcPr7crokXhCGma9Wz',\n",
       "    '5jE1iHjDyfsAvCffTdu7GYTjC3mzCRCEWX6QASKQZsqy',\n",
       "    '7K1QrMHufRX7dSeYTHY1JUePjXWRVYmSbAotkVTxx6fW',\n",
       "    'G6PNfv549Pg2bcRJpEtfebasovh1FfZXTA8ao2Y12J2j',\n",
       "    'HNeGw1vnzcATe2ezgTKj4keiULiQ1vgasUBf98oWw2UB',\n",
       "    'HzpGLJ1v1vf1ptr79iJN8zCjf4eUMDs7VQNibNAsZeVL',\n",
       "    'BRcYRwUwS6TVmBRTWh3fKepKNEtbEuR4LShwHErFxf3H',\n",
       "    'D2bPRLUqdTWUtHg4AcSfM2iYXQmqfXLgL4HDpACFxP5N',\n",
       "    '3D91zLQPRLamwJfGR5ZYMKQb4C18gsJNaSdmB6b2wLhw',\n",
       "    'AFxXjBWD2Uqg8QMT68HCWuUAkZvwBVboAmxbFUe5kSgh',\n",
       "    '5XdtyEDREHJXXW1CTtCsVjJRjBapAwK78ZquzvnNVRrV',\n",
       "    'CV7qh8ZoqeUSTQagosGpkLptXoojf9yCszxkRx1jTD12',\n",
       "    'DE1bawNcRJB9rVm3buyMVfr8mBEoyyu73NBovf2oXJsJ',\n",
       "    '594zuVTdDfNc1JuhrhqViPWz1TBSqZiiapjFsmAhmnWu',\n",
       "    'FhwJpzvvSBfaRJT6X7vmttSHj7XCkKgJH1xTwr6FCoR8',\n",
       "    'EtLT4yjJJrk2CCrDF7rvkcN6J4fnaoqcqDL51jxSvjGh',\n",
       "    'Ad5nudieoUP8jKGwvCsJKCXWgXFEMzc2VuQzyJnkJXxi',\n",
       "    'CEP7GdgfB79atAJXATsHaVwGpvuh37uCNyc54CVibs3a',\n",
       "    '8HM4bKbRLnSGCiFtf4JERGEYwQfNCUdsYfJ267SDTxXQ',\n",
       "    '2g2RCwPz9jwevvbouzxWCErY2cf123yqsJiasy4yHbcm',\n",
       "    'BBS3n9454pN5xagfSgJ13BMrp6fGWCAj3FY1f9kVVxQx',\n",
       "    'FyZWuBLC3VQR3BnqiXNmw47aWzhFb2jZZstGiVCoR7op',\n",
       "    'HBGF5ySKGzsdmKkVBvLtyEBMJKLrUKgJT4sgvyEdq4pf',\n",
       "    'DA728iXxLjMgatAx56QimFY1La64C5AZmaC6seH2LWt2',\n",
       "    'mP5g3qdN4UVUUMKD6TGxJqw34v8kjAiQZ5Mm4zjzitq',\n",
       "    'EZm9WpVPKp2rhCqvuyZGc8NavqRR65srHrdeSsuuxTKj',\n",
       "    '2QAANvrTRP1BR2Vqhj1UUaBtKnZqxSzP9chJ35iKKQsF',\n",
       "    'GeefaSZsNFPjfhPxNU8sYvC72nknxw3YCnC8fLn5UHY1',\n",
       "    '6HJGfzzUTgU2ZZ9WSzGNbNETWknU4qydXDySUFQo4fjy',\n",
       "    'Fodtvm4v4GizLFUUGGUyBDULa2rVhbZ3Hn2xDm8B2nq1',\n",
       "    'EQc1AYvER6QHNmN3Mh3oFTRrAwBBTv49yT8Afgt357wU',\n",
       "    '6MCJ3wdrVxGhqTPc1pnhRFRgM5qEqWJUfSCmLJrypEto',\n",
       "    '43cbSeG4PS6UDvxYkvfWQaWxVep2obYqJEH5ktHaYNfb',\n",
       "    '9dTLjb3Ppa9wc9zrYqskpZPoWbFg5e9RZmzGxGhxm7oC',\n",
       "    '4knPNe3MAQcMLHmdJHbMeRZcjFAXQZpeBMXLydmbAaCY',\n",
       "    'EPFtXhFPKC5DavJmyUySLBpMRW8YeoKLVEHPftpVh1Zs',\n",
       "    '2sUCe1nKbfBB5pZkk6cLzzL6TLXDyfdZbuVtjzg1xn29',\n",
       "    'HN26WTffbDUTkbaQfdbnPwxMNq91FxcMibxkyhWoU4Uj',\n",
       "    'HZutjJncpTCdnqi34hz5ZbegDUNZkCgL1L6UCssVx2ga',\n",
       "    '6MqSCdyKsVAoEG87NEQqWd8gvjK7AJqHXsCsdkFwf1gT',\n",
       "    'BZT53L7PV6CYvbJfw6cejXQbB2oGg4ENtDtHy4fm4Vuh',\n",
       "    'B1b99QwtenCMjPCX6eGYzNB7DGQ7jtMkwWVSSiNNTgeU',\n",
       "    '7PWqdEmeefQ6WbCiRJnxWWjpwv25SRDdbMnFsgBDbbxp',\n",
       "    '9BJw4jK1D5ebWSsdP11N2a213F8vUVRBQYmrn6aAnFtP',\n",
       "    'H3TXqJktZBCvkZZGXuC5zMZi9ohUjDim5dxtnk22D5Ns',\n",
       "    'CAdNenk5UVVNTiPgzTEUL63uLBKkwaiqMNL4ejyrKDUQ',\n",
       "    '5UBbQPkef6rkARqFUwEvpq4qbPggXKUxYRRSKy5E9kkT',\n",
       "    'Fg4y44uZbLyhYSBeCTimLRzPB2n1oTPnQUDWyeJtS5HP',\n",
       "    'J2ydYYRiWRMKoQC2L8Hg88WRJvqsbkLzGgz55N56k6HL',\n",
       "    '9VJkJQEuBehHwJiKDwJPTiujyX2Pb48X1Ke3zsFQi9N6',\n",
       "    'EzwKDWoRiNbgg6zjXm5u1QB6J2KrmQcWS8aBTjPQxoWQ',\n",
       "    '2LSKKKUf1HCGH5bZZjubJtiNZtAhipqFMghG7QdTmjYD',\n",
       "    'GNoh3WitMTsucw8U1xKaznr3AKoa3AfbXMCHcGHeF7wU',\n",
       "    'A25zFvLdRSnL4rGmv9Ftd9uKWKNwC9MwqwMyh7L2tC22',\n",
       "    '24GfTJcXW2rVK2wgiAE3MEzfXgAP38pfjg3Rxrak7ngg',\n",
       "    '2KYGdZJf96FTrswH3J2XfvRRTFRM5vj5WwJHkc3u2xSo',\n",
       "    '2hHA4vhsdwnQDrxDT8YCqcV57uxX5NoD73Aa1yuTX1nr',\n",
       "    '4mwuBiVs2uuWNn9V2tHE6BCrmVWMcCoD9ReRBbKLfH2K',\n",
       "    '5LwuWHJzp44ame1iaykfV52ooWb2bcKHULz5jfDcwHWF',\n",
       "    'C4iMik978qFETDGKFw5XpkgWmMLDDULYj6MdfvurZ17C',\n",
       "    '6KFnJWbsE5TwWj3C5rMsQQectNcGYXMSitxZFBXWMxfM',\n",
       "    '3N5XUAGCmsmitJmd1RdhcGiUSfk8yfnFrEQLYs9YMBT5',\n",
       "    '6s4rWMqt2ofaPNhoXM53drt3aGB2DmttPZzGHdGfwwxb',\n",
       "    '69cYEjHJfctERfdDYBMPjbLAojq7YhA2qWKMSUudpBiq',\n",
       "    '7p3kq2KZwwHFTVhsNAeghWRLaNx5u3kp6pboAsHzbe6d',\n",
       "    'EWbSQmpCG2N1t6xa9hFJFzvASNxz7KXsW9z2Ng5HKqzb',\n",
       "    'Af1BYu4DZ7NLxdN4k6nwKw9X36gtK2a6ptivoV14UsDx',\n",
       "    'FMpGCnTDmRUNyKuhLjQTmXe4uo445bg7jgbpsFzegqBR',\n",
       "    'Cj9mvLq5x8ddfLYwRMxSWiMZE29tdoVfhMUM5v2CLimE',\n",
       "    '4DdQutCk3aWtiaHEwPjkHUG2rzhTmD5Q1VmtMnDaq7XH',\n",
       "    'Ft88wZDVNuxJP5hX1VmoRJjNYNtdEwqtiwp7ZRjmPAN7',\n",
       "    'GfZ4LnpoaJL1MW5RjMFbn77di5xofbkhs2KvhPte3SuK',\n",
       "    'DbYx5q1B29Yi2ctbyhjBSFosGP4XZDBJV5aLC3aVJa7k',\n",
       "    'Gw1DPygVT9uwm12o2QACb2eMTwBb23Pt4ySXmDRDBe51',\n",
       "    'GxyRKP2eVKACaSSnso4VLSAjZKmHsFXHWUfS3A5CtiMA',\n",
       "    'HcKcRd2eQRKWLT5Zf53fBTbj465bcA2Pqw4sqMSh5Wuu',\n",
       "    '2PZvXjXJok39WS5aqHjKM7adX9S1NKSHBYKkXbU2Qd8Y',\n",
       "    '7ArEQqijDASsSTRq73dAyKNXMWRJUtrvrWGVp3nMX3Sf',\n",
       "    '6Gm4dgcEKCGgDVHiruBnTaWX9jbk7FCRmtVGSLiP39Bw',\n",
       "    'AzdZhgg1uNGWj3eQbTutzYJujuu3QKMy8R1vSrMDcXxF',\n",
       "    '5nBqjPLqyP281sC1XU226rQoQtwmcDV6N5UtadC1Vxgt',\n",
       "    'Ae2G9knpm5BoxYrbWCpB6jT8WXKeCcBMEacXx5trnPaV',\n",
       "    'Ej7hdNB4aMLboFUoodVsJgJvGC6au2C5udE9M23MpD25',\n",
       "    '5qZWngLTdUBcLYcPVUdH424mYQtqvaqLsJcBBiYCqJqQ',\n",
       "    'AsMTUpx6cUgBKwrxq2P11UFyVm1C6QkJDpMi5aYaCLCy',\n",
       "    'A9fkwL82JNcAaWnHcQFTkzXDURT4e9A4KM2frDp8h6zf',\n",
       "    'GrkKJZYCZrrAZuJbxhJjkSgXP65T6UYCsxZAJ7aGcHhF',\n",
       "    '7Xz8ko6zVdZs7yzqc76Pz6PMe9zup6Y5GkadwhBGBbRV',\n",
       "    '46X4szCDTdTNH6NAwafb6bz4jaLRdDLyHjFNvYrXiWZb',\n",
       "    '9JVpWWKgFJquioiZMcSVc7f2kziZpCxxrujdmokb8S9X',\n",
       "    'AneKQ22L1ymJXQ46zLL5tuQn2s5uFcvH3dXw44uVhZdJ',\n",
       "    'CieXMdfYH8jHb6NZnKZUGmWnXzaLLHwEhwJ66JnAQ4CT',\n",
       "    '6WAWQDkavHWVZ3M93CVg92Nv86aWafkTDmto3T23vEqw',\n",
       "    'CyGEDaZ21hLTpTfCWBYDdFSC9jaM6L38FJEMbnrvtM4k',\n",
       "    'J8ihwtfYvoCpghFKo5QYsyFTyXD1CuLVozTbsDx1CY4g',\n",
       "    'Ax6LqPejFFA9HCfjTyZy7cGcJsdttoKqTqyKd1pH7oAa',\n",
       "    'FZ9S7X9jMbCaMyJjRfSoBhFyarUMVwvx7HWRe4LnZHsg',\n",
       "    '6yPTsh9S8PJQrx54rwa3Ab5qBkzvpS5auTcBFvgZsnoY',\n",
       "    '8w7HLD3fCk9HVTh6SuSYzjiuh1wLb2Y6KaPSostQHVqE',\n",
       "    'Hrhw7RAbRx3iPcYb4BkFUfgR53ddoK7ijeQ24CrGkETq',\n",
       "    '53Fgc388PE2gwKCNCHCknjmqboj9S87aFpfdFriK2TPN',\n",
       "    '4iuRus3BM6Fu6ZFvA2MoJhKUWZ2eFe6q9FmTn6m9mCu1',\n",
       "    '2Gfhu2kFm9846NRwBSoo4qLe4brNuzVWvBx5fLcLuijq',\n",
       "    '5ixhnqq3V8soDgkTxktnnLSqDdtHPYCzKNNWesfMbeH2',\n",
       "    'ERh19odKs35yboAQKzgyRdmE6ZDiWuhQtghp2oBDFcEs',\n",
       "    'F6PqwfYSbna7yobqCkbZFBGukG4LGuw2LVY5WJ3T42Am',\n",
       "    'GSdHzRGLDFpLxv8zxs6ybqAhyWUS3n9Szrzsp56b2ZAF',\n",
       "    'GGoSC1DxqHChvkYvr12AvNiYGGxbensgnTtZzWK8yJy7',\n",
       "    '63ZnMeZTSJaAcAiQf8W1zKx9uyXHPcJU2YX73ZbWe6gr',\n",
       "    '9c5snky1p8AJZqkMEB2AiWQ167xABx3MEKx8fzS8D1KJ',\n",
       "    'FECZzMWjSJxeupCaiRaZNwNodWL7hDY86Y2n1PMccr4W',\n",
       "    'AGAqgRxtQU1g7Q9hVHfhMMu6hUvtSHLFySmcCgxiyzxp',\n",
       "    'E4ge2XgR4uhe2LuoS7SVATJczDYR4Xk55rcFBkgUTSjA',\n",
       "    'AyX9cKwGx7X54YGnu46Fe75PKbTign9UfcM9GtU6G7Py',\n",
       "    'BgEod15NgzRLimzNbaND3sGmGXjo3niu5gqjNA9KsZhA',\n",
       "    '3cxaTRZjaWQg4ZukLYLqepMej99Eni5mkTeyg4wt2XVc',\n",
       "    '4Vx3TMfhxpxCC4jCjcZKD8KhZP8UZBEtdi5qKdZo3wMh',\n",
       "    '5f2gdLu1Atz1csrc6gbrmKZtqYyZhRoWnhTM2nVieUTE',\n",
       "    '8b4UJJgjzY8fhDGdqsD9MXeyoVHnFdvHzZsxDXMmpgGr',\n",
       "    'CtV8cvUUHVf8eTSEehYu4drPDoPkwLzXcyEDJ3R5KR1Y',\n",
       "    'Cwr8JcQqhYV4kK23ge4PtBeyWbtCZz6tJc7uCG5R96EG',\n",
       "    '31WEp4Uw6FD4MHL5c3ryxE661PKHrJbfnV6QwY5Hi6oS',\n",
       "    'GmvGp6LCcyznfeJdRJx3UEterjERCzQFAzaBhLWwQFGB',\n",
       "    'Aa1w7ys5WRXsGp5Nq9hxukgGrcyrbFjJg5T71Fh8nbe4',\n",
       "    '8yp7p6uYLZpqzBC1PCUT5fwfa42QCNhh5HbaJKhEatfn',\n",
       "    '5NKGEZtai51R88Gtcj5uyyVnyyRccTPiJfmrP2q46Nak',\n",
       "    '3eSMGazGe5NEoWEqEt43TM5QM3QLhuLyqMX1FRqTE1et',\n",
       "    'Anx9CMaDTHUQ32KQ5xnZChVtT1ERgFKxvxLoPXrHmBtX',\n",
       "    'AqSkvjCppesnUvdksKX6v7eHSLop1VzkB9QnBxvQwdpy',\n",
       "    'EbmKZrsZ6JKGZMdruUSSmDsTS4UEhXgbAHm1Cd9opmb2',\n",
       "    'AsjwEP11yjgf9DVEgzKnLUsEGfmw2j6yKeaHY9rVvLZS',\n",
       "    'AwfTxYKTEv2nGg3sSxaKraPsRWwHY3Qb7FhBPHyZEogD',\n",
       "    '84ZYBVG1AA4kyAbrYHY1twNRAoFShXaTbwSYi6qHQDJa',\n",
       "    'GkA7ZR9YwMN5uEpiF9pbKDazU1R2eryjo4CQGsKRsc9B',\n",
       "    '2VmrF27dwgAt5Kv9QivLeYLagvjp79va9p6bZ4SYaLeV',\n",
       "    'GdnSyH3YtwcxFvQrVVJMm1JhTS4QVX7MFsX56uJLUfiZ',\n",
       "    'BW1DM5atdqqPxh8atWABeFC9vEWFXnjujc9JnNhJbdAT',\n",
       "    'E6uYTwdY4JwjZB3pssMKfbZtciFnQvwFnGpuwKNmtDFs',\n",
       "    '2utNvDN3Q25Z72C613ANSZvVdrKixiAx6xSTq5u3bU2q',\n",
       "    '2YYfq7jJzpa2a1ddmgVCTVAUojL7xNC7CFhGxXu6qE1y',\n",
       "    '7Np41oeYqPefeNQEHSv1UDhYrehxin3NStELsSKCT4K2',\n",
       "    'AYgECURrvuX6GtFe4tX7aAj87Xc5r5Znx96ntNk1nCv',\n",
       "    'B9aHWZZJC5thwYnz1A76qbSue4Wkj5Sk3yrHY4pygLxM',\n",
       "    'E8EnwHGLZ5pTV1HJE6PKbEEo2bB57DMdnCRh1EY9okts',\n",
       "    'FJPfyjjjrjrbnNnr9V9UAyYCdXDWz3H3U388NsXaHTyU',\n",
       "    'Hn1fCQ269NK89WLL9nHUFbZxiPmEnVSPKkMZK9Xxt7DU',\n",
       "    '6k4gyPR8p4PUa7g6GW83GGj4ENbpKLmbpNWhcGGkfxRt',\n",
       "    'GrkR9hQF3ZhE65dv444JP9vzmDUN41Qn6CgVt1DZWLSv',\n",
       "    'DtnDms78LNuE66bYWbWjBR48wmfmkGcDi4ktaRDQpsck',\n",
       "    '3VkRckekFwn3vRrPHKfmczXoWP2QpZgciJja29c9Aa6P',\n",
       "    'Etz72Ng2993ZDUK9fTt3uPWJsfgLaXzmUS3UeNJfDvaQ',\n",
       "    '5baA4t4gkf2iAyy6ofjUxV6YdcBnCNCtRRw1BZFR6ogV',\n",
       "    '3LyFQpFA6k4TJ6bJNGpXr4P9AEDJVJdKLAnDbDb2E7ns',\n",
       "    '67AUyQHdnt5vD7pZV7JuH5ySyRDvNHRTZaGF15qxXVnH',\n",
       "    '3E48Ko8kFLZhVxfntHMcg3ZJZ6R4efz5tbXVPNVDVGh2',\n",
       "    '79HGfBkJVX2HZLhRcoiw3qNHdeuptoT6KV79EzA6Rj1c',\n",
       "    'CXC4i3rG7fpLCPqKnuADKvQFtCCMv3WEqBrVGQ9yLUTF',\n",
       "    '6irM4V1wvPyoq8pNT8dYJYHxZS48ZzLrL5MMgwfNAmVz',\n",
       "    'Ce1sQqqM2YB14ijhk1dDmfsvmwyp7ATGcci6DjvopJtC',\n",
       "    '7y9AZYogwxwci9nS9xy6Vc2bjwH4Qc1NurFYHWgbNZMj',\n",
       "    'FmYLcL1JXueZijV7Eiyk9KTRyrjT2YLE7gpY1rwL1gcQ',\n",
       "    'AaFceXeNxdA4wGvFyb8U6hQgXowt7eZohEhpJhWKocin',\n",
       "    'BhRAWWFP69Whj95nqKaBYiqKG6g5fy73WtQ9MBMmAaUR',\n",
       "    'Bydb44UPZ7zsp1AYWLVfEWTC3cgVRSw68UyLpVRbnBeh',\n",
       "    '8TAEafjC34n45mqzZBrZkKqUBZ4JqQQhVf6yeF8pZgC',\n",
       "    '8izcQTapvSnkLN8qxfr7JJ998AqzaQDA6SNSwwGhPtkS',\n",
       "    '973iEp8Dxnpzqj5dgxwCJDrfKnxZ9kjQ3SSrysqqRpjH',\n",
       "    'AnSs9BQ9XVeKJYXoh6bCFANPhBKQ4nWdu4hWhvMkwBfh',\n",
       "    '4abrNd6ooPkC8zhnDRqykMVDFJQPi3gEeYhsLaXzDQUB',\n",
       "    'EmhSAhkoWE7G2TXELPGsC72aP84AQtUHY7jdwQQpKsxD',\n",
       "    '5nYVUY6K5dZEWtEehVRwRQZeD67xaucYf1bckyQDZPtN',\n",
       "    'Aa8byo5wETZstEsrY3y1hymTVU4sSUwiZGEjWqM8mpcm',\n",
       "    '41jBp1t7retHVtAq3YyPEyi7EeH6YnhEJwfkrsSpskJ6',\n",
       "    '99wAVPYtiQq1zNM7a7kRv9WxTHxLzXNXs61toBFNULTw',\n",
       "    '6TWTWyZdVy9fSMyTH4p4tZAoTpADcRcHEMGYhQybWTH5',\n",
       "    '6yKHERk8rsbmJxvMpPuwPs1ct3hRiP7xaJF2tvnGU6nK',\n",
       "    'CNjVgxmbGHvW1qvN6EPEWsPfHHGXp5T5F9b3zGpaGvW2',\n",
       "    'CP87GvGHnGWzE8r8AQwRdSF58QEsgDj9BNZkM44XgHSs',\n",
       "    '88LDHShVeLFSeRkMK19AZJq98WPpcT78vRP74AjadUMU',\n",
       "    'CWeRmXme7LmbaUWTZWFLt6FMnpzLCHaQLuR2TdgFn4Lq',\n",
       "    '9NFMpkv65d2G7UMMFYHeXrBAaB6rVD3BgQ95bKiwr448',\n",
       "    '2YPQaJk2x74yaW3jQuDzkcpgo3Vz99BpEtAcUbDRc5Pb',\n",
       "    '3N8ENkbyNqYA6JN2rSr6hTQuMHbjCWLa8i35CyKxhqR9',\n",
       "    'Bbx4YF5vdbgKuzb6tysjH6rP7PgpkTs4oEyYd8oGGynq',\n",
       "    'EA5LspUiqEjEtKwtr8HVQja2h5Pc336hiXwgyrmP9Gmn',\n",
       "    'FWsMiairR5y34VzwYy358cfKaEdHqWRWwHZWWFqW1jr1',\n",
       "    '8PjJTv657aeN9p5R2WoM6pPSz385chvTTytUWaEjSjkq',\n",
       "    'DKcsXBzMFj93kSaJMXQ37GCRRY3ANMQ72YwhnYGARceL',\n",
       "    '3Rffh4eR4cWXZFnk5PEm59TsqPRa592GM8GDCnLm3buh',\n",
       "    'Fuxh7yGvvu2rF9EurB58qNbFabF7m4w5CKVfGezYh6ap',\n",
       "    '79Bm8NrF2j2eDy66HcqfPuSKHNjBZJ3uzMxXwUxk4aVE',\n",
       "    'Aunki8tjpSgw6CiB3GF6j7CSezy6DFRNQJr5RAPzerjf',\n",
       "    'GkwHaAp6nRiRJkkLgpEKc47erN9YZPKq9N1Atogk9QRF',\n",
       "    '4EHkTVVCH2qnzFnoTQAynsL4cYAdNsYppvzJhXt7FWAv',\n",
       "    '7rfhKVFhHiwsAKynwxhhKmaKC8NAYrtPwCEJ86WxnFJm',\n",
       "    '59htqFCCaG5L8BP2ETP9GaJ1XddRX2xiaCz4zXF9XD3n',\n",
       "    '9huDUZfxoJ7wGMTffUE7vh1xePqef7gyrLJu9NApncqA',\n",
       "    'B3BFQdseXKDmoJpiU4M4Xt7MKjSRM2oohUVPD7FezhtH',\n",
       "    'CZ3ZMquJMYGWsdNPiysYNjdQZ9ggbiLXKzAFsX4piJbj',\n",
       "    'FNssw23zdD7zSKpK2BfEC1KmVHezgknGZ9RCBg2VBofo',\n",
       "    '3vSVZC7LfnnyGuacykWoWrbzrmTyFVSXxCbKJUFbJcKS',\n",
       "    '9cuRJAnRrDynQzR5ifmToA9vSbodpCvEBV2MPDZVpixC',\n",
       "    '88PtwbqhYq8EDdRm5DHeFuWkK9ZSNxvT1ScYvUYAMQJR',\n",
       "    '9qYi6x65gYQgNRcb2n2Da7Gu8dornWR7R7UGvKP7pXGW',\n",
       "    'DcRmErU7tqhcE1TyWkR9bxFM8AvyBoH1o8srNyor6AGY',\n",
       "    'Ev3VZ6G8qnj6WoLKWGE1qTxxmfTw5cM4TG5oMPxXxsYY',\n",
       "    '5VKSWzG6HpvB6t8wogQdUmWMiNe688de8sVBfDCYr1mL',\n",
       "    '2KbHZ4LSsoz5eAKcjvqhuDnN3kGST5fFLSTVUdH38j9x',\n",
       "    'HwVZm5n5A7cwNvJkjtsSo3rbewCTx89GLuZzth5Z98z6',\n",
       "    'Hc36Wh1ZqYGzGAnsJWNT9r2gY3h9n89uDpxZPsmEsiE3',\n",
       "    '77Y7b7pfMShaN1QJdF5A9DYadhS2xuK4CqtpsZ7R3Qsx',\n",
       "    'DWE4d95iF4SX5d9dsCwj7rkJcVJBr8dY8V7wCmC8xsTS',\n",
       "    '8KZ7Syg4zwJfFGYbLh39BdBTkJXus8AAkXNKAnZhn94h',\n",
       "    'CiuCKys4LSQdfFWWkfcGnpvfPvBxGMRdR4upYz6jheZz',\n",
       "    'Mc5XB47H3DKJHym5RLa9mPzWv5snERsF3KNv5AauXK8',\n",
       "    'A8fmchgRoCd5vaSvNdA8J5kLPgvr2RSEbNgugtz7BLz2',\n",
       "    '3unA1gns6F9GWaux3nqxM74VQmAGcgAouNBvqs6a5PeZ',\n",
       "    '4ySWBZiMm3fzqJRHrgSCscB4DTKbUm5jFkAV6YnEbpND',\n",
       "    'CEakyHBn5P8aWKwnV6GFhDmWdQDF3QMnWW1cPTEHpTvT',\n",
       "    '8QAFAtfhLpHFjDudvZCT4NqznWzeuwaprWTiueXwamzk',\n",
       "    '2Xmbd9YDdqeFHtQ3SG4WPmUAxgftAHPR5zgGJnWurjq3',\n",
       "    'CQVdAbx3Z34sttWb7fgwq3tXZyEeNpz9nbMAuYoXtid4',\n",
       "    'H8v52fVPiLkWr9EWLqA3za37wDvbFcmPYrh2deSHbNwb',\n",
       "    '7cKxv6UznFoWRuJkgw5bWj5rp5PiKTcXZeEaLqyd3Bbm',\n",
       "    'FpNeJiGHNwaLe6puXuV6sd5bii8ZaYrGM2E9KJnWyETY',\n",
       "    '7hsoCFxQDB6PZcP3kXgB3tL1F3dK9ZgWk2LFRn8SzKSa',\n",
       "    '4U9iUGSHj1kJa7AefG4UdEPd1xVvMyK3suDhngnvazyf',\n",
       "    '3NY8rocq57NtAwfuj4LJRYHHtrn4rYSEShghwt2JdVMV',\n",
       "    '9LaeC1fAsv328FBiexP86XR1275m58VkHZkaqGzCne9s',\n",
       "    'Y4FYtCtvuFLRF9h2QU28ge37RefPzEHdqwWuaNpvNNn',\n",
       "    'Hd8oZanMzpaTyJ3bPu49GUYL316Dz2ypSDDuCH7TEUvn',\n",
       "    'GUWvRYZY1A3biwwBT4MyTbETE6EvVFSGrJzmkPKnvirC',\n",
       "    '7zhQBWfu6x6aL17k4ogw2rke5AcXRvGVjcHseMA1Uyye',\n",
       "    '3gWfuAhgSus7XspcUR4ymCvxo9W1mZoe7xgpiFTkv8Ew',\n",
       "    'mPwJ55F4s6mdfoXLTKY19jyEamSk8YSuNyMTUX8jjo8',\n",
       "    'j3XrDFQfUnUhDnagwVG4nbzDRdGsUstV1bqAH4zzgS4',\n",
       "    'AfNCx9TN6ghURDWPre1stLpTRdcsTMfAgSARb9TuExAG',\n",
       "    '7k1ES9paw2PJhCCJFc14qhMbeudiUBFgQMhi3DMaNavx',\n",
       "    'FzGmh76wpaYQJu5QfV31axaX2LH7ATzmLcuNiJCuzu1p',\n",
       "    'GqMxwvTEbeYvnUPqEAHmULz4au4ZdcGqHk8bhSnxupaZ',\n",
       "    'DFw6QpqrLA4z6CmeeQqnKxNuxGidVtcQpxeztjhk1poq',\n",
       "    '2NtS7YmtWDWU4fJSi5x3RK9HUk9TMEmNByhoP1xmGeER',\n",
       "    '6nEr79dCSx42wEeZe2f7oVikvSuEUDdNwFzofyzTAaj5',\n",
       "    '8MrstTxNJpwXSFxn5FGwvre2uCcCaRPs94f2FcknVUyr',\n",
       "    'CEBHhXpStQr52d1GsP9niic1ZmUj5fuBvhUDh5k4vnWp',\n",
       "    'EZjuDuTgAjLdyN36offpZmyxyvy5YsJUJEDWg8JFib72',\n",
       "    'AHB94zKUASftTdqgdfiDSdnPJHkEFp7zX3yMrcSxABsv',\n",
       "    '6zZc2G6wvuzfBN2AWJYV4EgHjcCkARdvzWEgKvALu1S1',\n",
       "    '9pxPKe3aLWTbrUZWiHJJumnzFmSuRuR8dgtJQPsU1JcL',\n",
       "    'HPPiUpujB9mM3SSgkDazPtXw1jPFhAEqmQ1unvDuEaDq',\n",
       "    'HjVXWbVN97uoVXBzXF83BhPnmsWn57huoMzUD93YmN2B',\n",
       "    'FvoouX8C5ZgJtzZ5RF82U4tLNvTHg4hn44sn55YUFMGZ',\n",
       "    'GjZDkMHG2seuNdVUQCr7KdNynseEh56MmjA5xbPHWJmh',\n",
       "    '8n5cTn17w3jNnEmZYUYU7VQss5ck5BbYBDhDefgrma6W',\n",
       "    '6JrhMh1o69mTceM2kgLsMBS9jJwCfueDU8PcD4myPSaM',\n",
       "    '8yWT1CRuwfbSmeSrWdCvp7h2Pe9sNTt6K2HS5x1BTTtf',\n",
       "    '7cvkjYAkUYs4W8XcXsca7cBrEGFeSUjeZmKoNBvEwyri',\n",
       "    '9qVXK41F6zY1ndZTPjtvCMxb2i9uJjoJD7b3cyeUfPL2',\n",
       "    'CakcnaRDHka2gXyfbEd2d3xsvkJkqsLw2akB3zsN1D2S',\n",
       "    'GKonQCiqNtxS5NfiZGYfzueELFUmfbRXP5USmFarBw6F',\n",
       "    'HksW92wJGsoM5yH3pdL29MWS8mPQnZivhFF6nzn466Yk',\n",
       "    'CPFnLwHkdt3HX1sYeHYuK5Rk7wsUwSjtxxfp2isjp7E6',\n",
       "    'Eyr9P5XsjK2NUKNCnfu39eqpGoiLFgVAv1LSQgMZCwiQ',\n",
       "    'Pjg6Cbo6zwvreWadPVfGJsD9WMMo385FBmtW9ECE83s',\n",
       "    '54yTXiu6SEngx43vCeMkhbCxRneHHpBPuHAc69z5L4w4',\n",
       "    'DUJSZ8B7aw9ohJJSJh5ycumcwU9E97UrQxZ17aTRkT9Z',\n",
       "    'Hg827McCXmRNJX6kPrtPPnoFohFhRpa667eVAjbRFLwR',\n",
       "    '2ij8ucm6w9AMGPKBHrYFNK6vuxAFvLQpMh63jy4jTaRQ',\n",
       "    '4wTtGrKdjDjRM3R4sv6C3NrfQwyhejZbEUQokK5oSisX',\n",
       "    '6Uz9bTkdAtmzsDWk3Jso9YzzfYiNpEShBZbxUsvMnRbJ',\n",
       "    'Bvv7ZAyPanPMEBeS3KsaAkte5Guimsvu8ZFFgWiuuRFt',\n",
       "    '5qnomiPV7LN7Tirt4XeVZgDWXriJcKQT2j7Mz6Z41Hpq',\n",
       "    '7rd21xhyqx5y6R5VdL5ABFrxfHXuAMB7gPKaZhbPXp5N',\n",
       "    'rwkCVd6tF9b974SkaEkb3YBwyhkgjhKewu1fPzWNuGX',\n",
       "    '5NgxJsEZkycrTJ8YFeHUPsFTXCYTZAL3X9YwNcemcWjK',\n",
       "    'FHiFf7TuNFpVnEkLmzV3AFMYTUqtsD36UNFsWeMY5v3k',\n",
       "    '2Zfv3eJeC7jDBLsXy6bB6bcHyT2tqyGw3o6mTuWyivVd',\n",
       "    'APnSR52EC1eH676m7qTBHUJ1nrGpHYpV7XKPxgRDD8gX',\n",
       "    '3bHbMa5VW3np5AJazuacidrN4xPZgwhcXigmjwHmBg5e',\n",
       "    '4GkxaSjVLsNwBVynoEqNSNECMgap78zUdYFPp6eXfUzj',\n",
       "    '4U3RFq7X5kLG6tZ9kcksFL8oXeGNjtuUN1YfkVKXbs5x',\n",
       "    'FVFzEQPow3XzRLXNXSJvwg3bLms3uAxcapQFnkuQwLLa',\n",
       "    '7k1bwQmApWJcddaHLyo65ARv1hdaDY6ig96bcHHrxnhb',\n",
       "    'CnaEz1cgw4Mi8qmBn2GArHgHrsZKWKDmUq58GpxSL6M4',\n",
       "    'GZgCcd1hnpZ9RpU69ELamPFBFCFw1p8kGu11Yu17xDjj',\n",
       "    '3kwhXBucTtWRZtSa6sMcguPhCa9AUYQLtVjpoU23Wg8f',\n",
       "    'YvifBbkodKKFsWZizFhNVT5PHsiJnnJzC5zooRqWZsU',\n",
       "    '5q54XjQ7vDx4y6KphPeE97LUNiYGtP55spjvXAWPGBuf',\n",
       "    '3zPoUYpdEdNWhbBhEtRwHGPk6XZS4mo7RLAJMiCfMrs7',\n",
       "    '5P11QJdVN2FXiHR5da2bc6M6iC65EMRp4H6Uaoao6PAw',\n",
       "    'C7C8odR8oashR5Feyrq2tJKaXL18id1dSj2zbkDGL2C2',\n",
       "    '6TBrA7WDJTNm2G6X7Qu2Le1XzbSVJGUzvE15o4QwJbjy',\n",
       "    '6ntKc8aVguFuJRPnk96vSuETRbw2DsWUqBf6sXvFh3BG',\n",
       "    'BhfU1u3EpNpcp3EzhpFDZ4qkbV9ddL7TvUo7zwg1astw',\n",
       "    '2bja11LZj9fdGEwpJMDK4Rb1wpmZAm23mgGcGnE8q4wc',\n",
       "    'CQoHCqSB6hrYaQJSMEW7pWRY6oNdPTys3Yq5U9zQaSJ5',\n",
       "    'E6URBg3zEvouFUSYkwDynwjZ3ZjF13t5Knv5cSUYyaZc',\n",
       "    'GKJSzdAB9AsfrL8cm5xYLxeRJqecDSZfgQFBEVBS9P3Q',\n",
       "    'HbZ5FfmKWNHC7uwk6TF1hVi6TCs7dtYfdjEcuPGgzFAg',\n",
       "    'JCDsiViSGXnvkKnZEnZH5r6v2fn9rkHGkg67wsvRBE2n',\n",
       "    '9HWRTJjZtFc1xAf2kzheZiGQBdWYF2qWhSASKZH5z738',\n",
       "    '34YWc4p2J6q3N8bKA8Ubs5bTkn9kxTN8VLYw5tEwtqWq',\n",
       "    '7ZgbPMi98V3Kdi8N6aEwT3wHXxvw5rstQRsy7exgrbwh',\n",
       "    'AzVV9ZZDxTgW4wWfJmsG6ytaHpQGSe1yz76Nyy84VbQF',\n",
       "    'L97KEZzUCDzy77ZagP6VKwmvB6iDpkAntE9bxfqXt2X',\n",
       "    '4qD2CZCfuLwKY7vfr2mbn6vJ3uYjEzNbJWw7y2tvEB9f',\n",
       "    '3o6xgkJ9sTmDeQWyfj3sxwon18fXJB9PV5LDc8sfgR4a',\n",
       "    '7w7CA7oCE5ViAEEATyQ6CoE469htSkVuSbGYXbw3se6R',\n",
       "    '86khXZNW1GCYfwMS82uHhKb6CS38aH3fLREqrGRKCsHM',\n",
       "    '9s3hZZYVxtj6HqxUtENHdW9pTFcC9tXR1W1Kkq8d3Sns',\n",
       "    'CfxeMzG6tNgtf1HJ89ppeDrUCz3C3cuHaRUKgXfUX846',\n",
       "    'Cy3ZTahbtUiimPyF7m43BY4CKKDx2mzMGWQpZupaAkWW',\n",
       "    'D5uCUEYPMKTQgQsVLTS1EBmedGp4ixJ1wf6kD9JDNGLS',\n",
       "    'DS67fWPAkZ3Ho3dhfYeTY4vWasYJUr75fBbV4vUg8nE6',\n",
       "    'FefSpab1kkQkX3FY7zGgqUNHkxCNMZKDFWBKK1CnrGpS',\n",
       "    '45857zGRnfXGkfZggtLjqz7ccajAPzAcz4SBMzTyLA8o',\n",
       "    '4dDuj1L7vtiqz5JQhjUTM5Jmd2R2UJQDoGvtxjSN2qSo',\n",
       "    'H9otms2pv4ZjQ2rY7Rb4o296ciATnHLjg2GK94UGDAEy',\n",
       "    'Bzr4raUumaTNeqhMjvWYaF2Zm2gQwgFCDbVwcCNjNcT8',\n",
       "    'HGnUTnZDYCHbZabdYKaS4k9ZwnsvhMD6nQQRnBqcLgso',\n",
       "    '6GndxQsTJdnxEzvAnMpLsGx4GQpcBMikHgtr2FsB1F7M',\n",
       "    '8X4uEstzw1X2s7icAvz6jLLhXxrwQb8hUv4FeRco1Bgi',\n",
       "    'AogcwQ1ubM76EPMhSD5cw1ES4W5econvQCFmBL6nTW1',\n",
       "    'DviEMMCo4oW1u94xyx2hvL9ALzRdhZte2H2FEpqpqMog',\n",
       "    '4yeZwK1uvVJ6BxsaYeyxT2KGD4taMsZqrFatLPAFuwtF',\n",
       "    'GaAg5ti4bA4eUnyeFj9kV1NPYgEMCEcG8KePwW44xYBi',\n",
       "    '485j7TkqEYCc1dsE6e1X3KWrRyYU4yiCdBEHzGxBRm9Q',\n",
       "    '9FJpzn2nZakTH7m4ofwcwgwJ4xWKMDeVcba4rQugcvMv',\n",
       "    'HYaxaAiwaM7t2Wa4FkbQhzHfwEg4AQJ3xcHcMhjxR9qf',\n",
       "    '4vhHFFTMydYbzEtQz5JvwHpmygmkoFBSEoWaQkKvkNY',\n",
       "    '3PXHNPzHejsKzy7A5gFzuLyZ2zH54KAdGRjC5u2qqzxd',\n",
       "    '9j1yaR4shuQby1Vc625H6sxeyynqTPiDxyExRCLTrJND',\n",
       "    '7gFwtdXRUmnBDySaqSL5efK9a3vukoUVhqegP9GXydHZ',\n",
       "    '4ZggHG4dG3Q5zFFZPpa2TVfJiLtLbGcCGpM5SEUboGvL',\n",
       "    'RrDGCvPDhUSKjsB6tT6CWwheeudGNhYHCCg5fknR2U4',\n",
       "    '9tBuu7Y15WM7uecTyxDzeyPMk5wmVAQqDCwoTKvSNA8P',\n",
       "    '5bLSBYNr8E1iE1TKuQUHAzwba8kAkSLPhdFrj9B3Phwi',\n",
       "    '2MBkKm6ow4FimfMzbnmeKinW4S6gBLdFfGf1hJ7p4duA',\n",
       "    '4QGgNdzTSjWiE2t4wkdb5BtXjtcQkRPSwTzQLgXrdRyX',\n",
       "    '6t2F2aXsCmz8nJ4NQYyFFArBVtAWVtR69mVWEYK8kSXM',\n",
       "    '9quEp9J5QKGhan2YkptnUQuzMwtXczEp2RNG5wQACzD4',\n",
       "    '8PXSZJ4EvVGhWtFYB2PFzswwyZMtHd5ByuBbqTXef3tR',\n",
       "    '2T1aRXuA72o19Wrne1HZCZkhLGgt44h9mVML7UiMfscj',\n",
       "    'BMQ6cPk2atiyfSX5ocCrsZf5h2WfbNPJKgx2JnRUvWGk',\n",
       "    '294ME6H6c3q55uDN3zCkmz1mqKEeaqJ2eNfyyeVEyKUp',\n",
       "    'BZsVcpTrppcYExrTVc8Bo4YS3gcNPpF2xYVo59E2uNjb',\n",
       "    'Ct6CmLpsa23b8NFJHSTsztGnMVZ42onvB3XgZajdMPRm',\n",
       "    'CxGuVihpvnQudQ8K5wooUDsuBfitvjN2heKVnhZeu1qG',\n",
       "    'DKjfsCkQz9GqwbAg4AyrwG56tLCyw7kxwVJMk2o6xwyo',\n",
       "    'Devax2dLM9Rt62mSkDZp27ZM1Sp3gL6mZkNASgJfUFUM',\n",
       "    'FR84wZQy3Y3j2gWz6pgETUiUoJtreMEuWfbg6573UCj9',\n",
       "    '39nLeBVHx9vStTDMJ2zWJUwvif1xe2jXxaTjkobRmCUF',\n",
       "    '6kCSvE8Ky3NiLGURg5CPjC4rdNDED78bbhi81iYXHXiX',\n",
       "    '3o6uTBPbLfoB1XsuWwZZhSsuQRUM8tSRUovuag5mryc2',\n",
       "    '2DSKnNptpFjQvimmStaf5xyMddJgtn7ME9bhaXZ6FGG6',\n",
       "    'CHmdL15akDcJgBkY6BP3hzs98Dqr6wbdDC5p8odvtSbq',\n",
       "    'GumSE5HsMV5HCwBTv2D2D81yy9x17aDkvobkqAfTRgmo'],\n",
       "   'total': 1003062224155140167}},\n",
       " 'id': 6}"
      ]
     },
     "execution_count": 9,
     "metadata": {},
     "output_type": "execute_result"
    }
   ],
   "source": [
    "solana_client.get_supply()"
   ]
  },
  {
   "cell_type": "code",
   "execution_count": 12,
   "metadata": {},
   "outputs": [
    {
     "data": {
      "text/plain": [
       "{'jsonrpc': '2.0',\n",
       " 'error': {'code': -32602, 'message': 'Invalid param: could not find account'},\n",
       " 'id': 10}"
      ]
     },
     "execution_count": 12,
     "metadata": {},
     "output_type": "execute_result"
    }
   ],
   "source": [
    "solana_client.get_token_account_balance(\"7fUAJdStEuGbc3sM84cKRL6yYaaSstyLSU4ve5oovLS7\")"
   ]
  },
  {
   "cell_type": "code",
   "execution_count": 13,
   "metadata": {},
   "outputs": [
    {
     "data": {
      "text/plain": [
       "{'jsonrpc': '2.0', 'result': 4554, 'id': 11}"
      ]
     },
     "execution_count": 13,
     "metadata": {},
     "output_type": "execute_result"
    }
   ],
   "source": [
    "solana_client.get_transaction_count()"
   ]
  },
  {
   "cell_type": "code",
   "execution_count": 10,
   "metadata": {},
   "outputs": [
    {
     "data": {
      "text/plain": [
       "{'jsonrpc': '2.0', 'result': 1022206, 'id': 7}"
      ]
     },
     "execution_count": 10,
     "metadata": {},
     "output_type": "execute_result"
    }
   ],
   "source": [
    "solana_client.get_minimum_ledger_slot()"
   ]
  },
  {
   "cell_type": "code",
   "execution_count": 11,
   "metadata": {},
   "outputs": [
    {
     "data": {
      "text/plain": [
       "{'jsonrpc': '2.0', 'result': {'solana-core': '1.2.26 de76df0c'}, 'id': 8}"
      ]
     },
     "execution_count": 11,
     "metadata": {},
     "output_type": "execute_result"
    }
   ],
   "source": [
    "solana_client.get_version()"
   ]
  },
  {
   "cell_type": "code",
   "execution_count": 21,
   "metadata": {},
   "outputs": [
    {
     "data": {
      "text/plain": [
       "{'jsonrpc': '2.0',\n",
       " 'result': 'uK6gbLbhnTEgjgmwn36D5BRTRkG4AT8r7Q162TLnJzQnHUZVL9r6BYZVfRttrhmkmno6Fp4VQELzL4AiriCo61U',\n",
       " 'id': 17}"
      ]
     },
     "execution_count": 21,
     "metadata": {},
     "output_type": "execute_result"
    }
   ],
   "source": [
    "solana_client.request_airdrop(PublicKey(1), 10000)"
   ]
  },
  {
   "cell_type": "code",
   "execution_count": 23,
   "metadata": {},
   "outputs": [
    {
     "data": {
      "text/plain": [
       "{'jsonrpc': '2.0', 'result': None, 'id': 1}"
      ]
     },
     "execution_count": 23,
     "metadata": {},
     "output_type": "execute_result"
    }
   ],
   "source": [
    "solana_client.set_log_filter(\"solana_core=debug\")"
   ]
  },
  {
   "cell_type": "code",
   "execution_count": null,
   "metadata": {},
   "outputs": [],
   "source": []
  }
 ],
 "metadata": {
  "celltoolbar": "Raw Cell Format",
  "kernelspec": {
   "display_name": "Python 3",
   "language": "python",
   "name": "python3"
  },
  "language_info": {
   "codemirror_mode": {
    "name": "ipython",
    "version": 3
   },
   "file_extension": ".py",
   "mimetype": "text/x-python",
   "name": "python",
   "nbconvert_exporter": "python",
   "pygments_lexer": "ipython3",
   "version": "3.7.3"
  }
 },
 "nbformat": 4,
 "nbformat_minor": 4
}
