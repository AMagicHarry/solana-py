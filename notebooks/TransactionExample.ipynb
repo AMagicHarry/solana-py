{
 "cells": [
  {
   "cell_type": "code",
   "execution_count": 11,
   "metadata": {},
   "outputs": [
    {
     "data": {
      "text/plain": [
       "b'\\x00\\x03\\x02\\x05\\x00\\x00\\x00\\x00\\x00\\x00\\x00\\x00\\x00\\x00\\x00\\x00\\x00\\x00\\x00\\x00\\x00\\x00\\x00\\x00\\x00\\x00\\x00\\x00\\x00\\x00\\x00\\x00\\x00\\x00\\x00\\x01\\x00\\x00\\x00\\x00\\x00\\x00\\x00\\x00\\x00\\x00\\x00\\x00\\x00\\x00\\x00\\x00\\x00\\x00\\x00\\x00\\x00\\x00\\x00\\x00\\x00\\x00\\x00\\x00\\x00\\x00\\x00\\x02\\x00\\x00\\x00\\x00\\x00\\x00\\x00\\x00\\x00\\x00\\x00\\x00\\x00\\x00\\x00\\x00\\x00\\x00\\x00\\x00\\x00\\x00\\x00\\x00\\x00\\x00\\x00\\x00\\x00\\x00\\x00\\x03\\x00\\x00\\x00\\x00\\x00\\x00\\x00\\x00\\x00\\x00\\x00\\x00\\x00\\x00\\x00\\x00\\x00\\x00\\x00\\x00\\x00\\x00\\x00\\x00\\x00\\x00\\x00\\x00\\x00\\x00\\x00\\x04\\x00\\x00\\x00\\x00\\x00\\x00\\x00\\x00\\x00\\x00\\x00\\x00\\x00\\x00\\x00\\x00\\x00\\x00\\x00\\x00\\x00\\x00\\x00\\x00\\x00\\x00\\x00\\x00\\x00\\x00\\x00\\x05\\x00\\x00\\x00\\x00\\x00\\x00\\x00\\x00\\x00\\x00\\x00\\x00\\x00\\x00\\x00\\x00\\x00\\x00\\x00\\x00\\x00\\x00\\x00\\x00\\x00\\x00\\x00\\x00\\x00\\x00\\x00\\x01\\x01\\x04\\x03\\x01\\x02\\x03\\x05\\t\\t\\t\\t\\t'"
      ]
     },
     "execution_count": 11,
     "metadata": {},
     "output_type": "execute_result"
    }
   ],
   "source": [
    "from base58 import b58decode, b58encode\n",
    "\n",
    "from solanaweb3.blockhash import Blockhash\n",
    "from solanaweb3.publickey import PublicKey\n",
    "from solanaweb3.message import *\n",
    "\n",
    "message_header = MessageHeader(0, 3, 2)\n",
    "accounts_keys = [str(PublicKey(i)) for i in range(1, 6)]\n",
    "recent_blockhash = Blockhash(str(PublicKey(1)))\n",
    "instructions = [CompiledInstruction(accounts=[1,2,3], data=b58encode(bytes([9] * 5)), program_id_index=4)]\n",
    "args = MessageArgs(message_header, accounts_keys, recent_blockhash, instructions)\n",
    "msg = Message(args)\n",
    "msg_bytes = msg.serialize()\n",
    "msg_bytes"
   ]
  },
  {
   "cell_type": "code",
   "execution_count": 12,
   "metadata": {},
   "outputs": [
    {
     "name": "stdout",
     "output_type": "stream",
     "text": [
      "Header:  MessageHeader(num_required_signatures=0, num_readonly_signed_accounts=3, num_readonly_unsigned_accounts=2)\n",
      "Recent Blockhash:  0000000000000000000000000000000000000000000000000000000000000001\n",
      "key1: 0000000000000000000000000000000000000000000000000000000000000001\n",
      "key2: 0000000000000000000000000000000000000000000000000000000000000002\n",
      "key3: 0000000000000000000000000000000000000000000000000000000000000003\n",
      "key4: 0000000000000000000000000000000000000000000000000000000000000004\n",
      "key5: 0000000000000000000000000000000000000000000000000000000000000005\n",
      "Instructions:  [CompiledInstruction(program_id_index=4, accounts=b'\\x01\\x02\\x03', data=b'228BPqr')]\n"
     ]
    }
   ],
   "source": [
    "decoded_msg = msg.deserialize(msg_bytes)\n",
    "assert decoded_msg.header == message_header\n",
    "assert decoded_msg.recent_blockhash == recent_blockhash\n",
    "print(\"Header: \", decoded_msg.header)\n",
    "print(\"Recent Blockhash: \", b58decode(decoded_msg.recent_blockhash).hex())\n",
    "any(print(\"key{}: {}\".format(i + 1, key.to_buffer().hex())) for i, key in enumerate(msg.account_keys))\n",
    "print(\"Instructions: \", decoded_msg.instructions)\n"
   ]
  },
  {
   "cell_type": "code",
   "execution_count": null,
   "metadata": {},
   "outputs": [],
   "source": []
  }
 ],
 "metadata": {
  "kernelspec": {
   "display_name": "Python 3",
   "language": "python",
   "name": "python3"
  },
  "language_info": {
   "codemirror_mode": {
    "name": "ipython",
    "version": 3
   },
   "file_extension": ".py",
   "mimetype": "text/x-python",
   "name": "python",
   "nbconvert_exporter": "python",
   "pygments_lexer": "ipython3",
   "version": "3.7.3"
  }
 },
 "nbformat": 4,
 "nbformat_minor": 4
}
