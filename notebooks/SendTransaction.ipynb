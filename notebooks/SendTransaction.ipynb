{
 "cells": [
  {
   "cell_type": "code",
   "execution_count": null,
   "metadata": {},
   "outputs": [],
   "source": [
    "from solana.rpc.api import Client\n",
    "\n",
    "solana_client = Client(\"https://devnet.solana.com\")\n",
    "solana_client.is_connected()"
   ]
  },
  {
   "cell_type": "code",
   "execution_count": null,
   "metadata": {},
   "outputs": [],
   "source": [
    "from solana.account import Account\n",
    "\n",
    "acc1 = Account(bytes([8] * 32))\n",
    "tx = solana_client.request_airdrop(acc1.public_key(), 1000000)\n",
    "tx"
   ]
  },
  {
   "cell_type": "code",
   "execution_count": null,
   "metadata": {},
   "outputs": [],
   "source": [
    "solana_client.get_confirmed_transaction(tx[\"result\"])"
   ]
  },
  {
   "cell_type": "code",
   "execution_count": null,
   "metadata": {},
   "outputs": [],
   "source": [
    "solana_client.get_balance(acc1.public_key())"
   ]
  },
  {
   "cell_type": "code",
   "execution_count": null,
   "metadata": {},
   "outputs": [],
   "source": [
    "recent_blockhash = solana_client.get_recent_blockhash()\n",
    "recent_blockhash"
   ]
  },
  {
   "cell_type": "code",
   "execution_count": null,
   "metadata": {},
   "outputs": [],
   "source": [
    "from base58 import b58encode\n",
    "from solana.blockhash import Blockhash\n",
    "from solana.system_program import TransferParams, transfer\n",
    "from solana.transaction import Transaction\n",
    "from solana.publickey import PublicKey\n",
    "\n",
    "acc2_pubkey = PublicKey(\"83astBRguLMdt2h5U1Tpdq5tjFoJ6noeGwaY3mDLVcri\")\n",
    "tx = transfer(\n",
    "    TransferParams(from_pubkey=acc1.public_key(), to_pubkey=acc2_pubkey, lamports=1000000))\n",
    "tx.recent_blockhash = Blockhash(recent_blockhash[\"result\"][\"value\"][\"blockhash\"])\n",
    "tx.sign(acc1)\n",
    "# tx_sig = solana_client.send_raw_transaction(tx)\n",
    "# tx_sig"
   ]
  },
  {
   "cell_type": "code",
   "execution_count": null,
   "metadata": {},
   "outputs": [],
   "source": [
    "solana_client.get_confirmed_transaction(tx_sig[\"result\"])"
   ]
  },
  {
   "cell_type": "code",
   "execution_count": null,
   "metadata": {},
   "outputs": [],
   "source": [
    "solana_client.get_balance(acc2_pubkey)"
   ]
  },
  {
   "cell_type": "code",
   "execution_count": null,
   "metadata": {},
   "outputs": [],
   "source": [
    "tx = transfer(\n",
    "    TransferParams(from_pubkey=acc1.public_key(), to_pubkey=Account(2).public_key(), lamports=1000000))\n",
    "tx_sig = solana_client.send_transaction(tx, acc1)\n",
    "tx_sig"
   ]
  },
  {
   "cell_type": "code",
   "execution_count": null,
   "metadata": {},
   "outputs": [],
   "source": [
    "solana_client.get_confirmed_transaction(tx_sig[\"result\"])"
   ]
  },
  {
   "cell_type": "code",
   "execution_count": null,
   "metadata": {},
   "outputs": [],
   "source": [
    "solana_client.simulate_transaction(tx)"
   ]
  },
  {
   "cell_type": "code",
   "execution_count": null,
   "metadata": {},
   "outputs": [],
   "source": [
    "tx_as_base58_encoded_string = \"4hXTCkRzt9WyecNzV1XPgCDfGAZzQKNxLXgynz5QDuWWPSAZBZSHptvWRL3BjCvzUXRdKvHL2b7yGrRQcWyaqsaBCncVG7BFggS8w9snUts67BSh3EqKpXLUm5UMHfD7ZBe9GhARjbNQMLJ1QD3Spr6oMTBU6EhdB4RD8CP2xUxr2u3d6fos36PD98XS6oX8TQjLpsMwncs5DAMiD4nNnR8NBfyghGCWvCVifVwvA8B8TJxE1aiyiv2L429BCWfyzAme5sZW8rDb14NeCQHhZbtNqfXhcp2tAnaAT\"\n",
    "solana_client.send_raw_transaction(tx_as_base58_encoded_string)"
   ]
  },
  {
   "cell_type": "code",
   "execution_count": null,
   "metadata": {},
   "outputs": [],
   "source": []
  }
 ],
 "metadata": {
  "kernelspec": {
   "display_name": "Python 3",
   "language": "python",
   "name": "python3"
  },
  "language_info": {
   "codemirror_mode": {
    "name": "ipython",
    "version": 3
   },
   "file_extension": ".py",
   "mimetype": "text/x-python",
   "name": "python",
   "nbconvert_exporter": "python",
   "pygments_lexer": "ipython3",
   "version": "3.7.3"
  }
 },
 "nbformat": 4,
 "nbformat_minor": 4
}
