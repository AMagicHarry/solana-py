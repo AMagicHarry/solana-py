{
 "cells": [
  {
   "cell_type": "code",
   "execution_count": null,
   "metadata": {},
   "outputs": [],
   "source": [
    "from base58 import b58decode, b58encode\n",
    "\n",
    "from solanaweb3.message import *\n",
    "from solanaweb3.blockhash import Blockhash\n",
    "from solanaweb3.publickey import PublicKey\n",
    "from solanaweb3.transaction import Transaction, SIG_LENGTH\n",
    "\n",
    "def print_message(msg):\n",
    "    print(\"Header: \", msg.header)\n",
    "    print(\"Recent Blockhash: \", b58decode(msg.recent_blockhash).hex())\n",
    "    any((print(f\"key{i + 1}: {key.to_buffer().hex()}\") for i, key in enumerate(msg.account_keys)))\n",
    "    print(\"Instructions: \", msg.instructions)"
   ]
  },
  {
   "cell_type": "code",
   "execution_count": null,
   "metadata": {},
   "outputs": [],
   "source": [
    "message_header = MessageHeader(0, 3, 2)\n",
    "accounts_keys = [str(PublicKey(i)) for i in range(1, 6)]\n",
    "recent_blockhash = Blockhash(str(PublicKey(1)))\n",
    "instructions = [CompiledInstruction(accounts=[1,2,3], data=b58encode(bytes([9] * 5)), program_id_index=4)]\n",
    "args = MessageArgs(message_header, accounts_keys, recent_blockhash, instructions)\n",
    "msg = Message(args)\n",
    "msg_bytes = msg.serialize()\n",
    "msg_bytes"
   ]
  },
  {
   "cell_type": "code",
   "execution_count": null,
   "metadata": {},
   "outputs": [],
   "source": [
    "decoded_msg = msg.deserialize(msg_bytes)\n",
    "assert decoded_msg.header == message_header\n",
    "assert decoded_msg.recent_blockhash == recent_blockhash\n",
    "print_message(decoded_msg)"
   ]
  },
  {
   "cell_type": "code",
   "execution_count": null,
   "metadata": {},
   "outputs": [],
   "source": [
    "signatures = [\n",
    "    b58encode(bytes([1] * SIG_LENGTH)),\n",
    "    b58encode(bytes([2] * SIG_LENGTH)),\n",
    "];\n",
    "# Note: Signatures will be added to transaction on each run\n",
    "tx = Transaction.populate(msg, signatures)\n",
    "tx_msg = tx.compile_message()\n",
    "assert tx.serialize_message() == tx_msg.serialize()\n",
    "assert len(tx_msg.instructions) == len(tx.instructions) == 1\n",
    "assert tx_msg.recent_blockhash == tx.recent_blockhash == recent_blockhash\n",
    "print_message(tx_msg)"
   ]
  },
  {
   "cell_type": "code",
   "execution_count": null,
   "metadata": {},
   "outputs": [],
   "source": []
  }
 ],
 "metadata": {
  "kernelspec": {
   "display_name": "Python 3",
   "language": "python",
   "name": "python3"
  },
  "language_info": {
   "codemirror_mode": {
    "name": "ipython",
    "version": 3
   },
   "file_extension": ".py",
   "mimetype": "text/x-python",
   "name": "python",
   "nbconvert_exporter": "python",
   "pygments_lexer": "ipython3",
   "version": "3.7.3"
  }
 },
 "nbformat": 4,
 "nbformat_minor": 4
}
